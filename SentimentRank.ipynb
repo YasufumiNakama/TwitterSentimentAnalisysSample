{
 "cells": [
  {
   "cell_type": "code",
   "execution_count": 1,
   "metadata": {},
   "outputs": [
    {
     "data": {
      "text/plain": [
       "['.DS_Store', 'keyword.csv']"
      ]
     },
     "execution_count": 1,
     "metadata": {},
     "output_type": "execute_result"
    }
   ],
   "source": [
    "import os\n",
    "import pandas as pd\n",
    "import warnings\n",
    "warnings.filterwarnings(\"ignore\")\n",
    "os.listdir('./input/')"
   ]
  },
  {
   "cell_type": "code",
   "execution_count": 2,
   "metadata": {},
   "outputs": [],
   "source": [
    "select = pd.read_csv('./input/keyword.csv', encoding='SHIFT-JIS', header=None)\n",
    "select = select[0].values.tolist()"
   ]
  },
  {
   "cell_type": "code",
   "execution_count": 3,
   "metadata": {},
   "outputs": [
    {
     "data": {
      "text/html": [
       "<div>\n",
       "<style scoped>\n",
       "    .dataframe tbody tr th:only-of-type {\n",
       "        vertical-align: middle;\n",
       "    }\n",
       "\n",
       "    .dataframe tbody tr th {\n",
       "        vertical-align: top;\n",
       "    }\n",
       "\n",
       "    .dataframe thead th {\n",
       "        text-align: right;\n",
       "    }\n",
       "</style>\n",
       "<table border=\"1\" class=\"dataframe\">\n",
       "  <thead>\n",
       "    <tr style=\"text-align: right;\">\n",
       "      <th></th>\n",
       "      <th>stock</th>\n",
       "      <th>score</th>\n",
       "      <th>n_tweets</th>\n",
       "    </tr>\n",
       "  </thead>\n",
       "  <tbody>\n",
       "    <tr>\n",
       "      <th>27</th>\n",
       "      <td>一正蒲鉾</td>\n",
       "      <td>3.000000</td>\n",
       "      <td>100</td>\n",
       "    </tr>\n",
       "    <tr>\n",
       "      <th>11</th>\n",
       "      <td>フォーカスシステムズ</td>\n",
       "      <td>2.640000</td>\n",
       "      <td>25</td>\n",
       "    </tr>\n",
       "    <tr>\n",
       "      <th>29</th>\n",
       "      <td>リンクアンドモチベーション</td>\n",
       "      <td>1.213115</td>\n",
       "      <td>61</td>\n",
       "    </tr>\n",
       "    <tr>\n",
       "      <th>0</th>\n",
       "      <td>ドリームインキュベータ</td>\n",
       "      <td>1.111111</td>\n",
       "      <td>99</td>\n",
       "    </tr>\n",
       "    <tr>\n",
       "      <th>5</th>\n",
       "      <td>協和発酵キリン</td>\n",
       "      <td>1.070000</td>\n",
       "      <td>100</td>\n",
       "    </tr>\n",
       "    <tr>\n",
       "      <th>20</th>\n",
       "      <td>ソーシャルワイヤー</td>\n",
       "      <td>0.977778</td>\n",
       "      <td>45</td>\n",
       "    </tr>\n",
       "    <tr>\n",
       "      <th>18</th>\n",
       "      <td>コネクシオ</td>\n",
       "      <td>0.950000</td>\n",
       "      <td>40</td>\n",
       "    </tr>\n",
       "    <tr>\n",
       "      <th>16</th>\n",
       "      <td>ブルボン</td>\n",
       "      <td>0.920000</td>\n",
       "      <td>100</td>\n",
       "    </tr>\n",
       "    <tr>\n",
       "      <th>3</th>\n",
       "      <td>ムサシ</td>\n",
       "      <td>0.918605</td>\n",
       "      <td>86</td>\n",
       "    </tr>\n",
       "    <tr>\n",
       "      <th>1</th>\n",
       "      <td>田谷</td>\n",
       "      <td>0.790000</td>\n",
       "      <td>100</td>\n",
       "    </tr>\n",
       "  </tbody>\n",
       "</table>\n",
       "</div>"
      ],
      "text/plain": [
       "            stock     score  n_tweets\n",
       "27           一正蒲鉾  3.000000       100\n",
       "11     フォーカスシステムズ  2.640000        25\n",
       "29  リンクアンドモチベーション  1.213115        61\n",
       "0     ドリームインキュベータ  1.111111        99\n",
       "5         協和発酵キリン  1.070000       100\n",
       "20      ソーシャルワイヤー  0.977778        45\n",
       "18          コネクシオ  0.950000        40\n",
       "16           ブルボン  0.920000       100\n",
       "3             ムサシ  0.918605        86\n",
       "1              田谷  0.790000       100"
      ]
     },
     "execution_count": 3,
     "metadata": {},
     "output_type": "execute_result"
    }
   ],
   "source": [
    "av_score = []\n",
    "n_tweets = []\n",
    "\n",
    "for j in range(len(select)):\n",
    "    # 入力\n",
    "    df = pd.read_csv('./sentiment_score/'+select[j]+'.csv')\n",
    "    # ツイートあたりのスコア（合計スコア/ツイート数）\n",
    "    if len(df) == 0:\n",
    "        av_score.append(0)\n",
    "    else:\n",
    "        av_score.append(df['score'].sum()/len(df))\n",
    "    # ツイート数\n",
    "    n_tweets.append(len(df))\n",
    "    \n",
    "#　出力\n",
    "rank = pd.DataFrame()\n",
    "rank['stock'] = select\n",
    "rank['score'] = av_score\n",
    "rank['n_tweets'] = n_tweets\n",
    "rank = rank.sort_values('score', ascending=False)\n",
    "rank.to_csv('./sentiment_rank/rank.csv', encoding='SHIFT_JIS', index=False)\n",
    "\n",
    "# ツイート数が10以上のTOP10\n",
    "rank.loc[rank['n_tweets']>=10].head(10)"
   ]
  }
 ],
 "metadata": {
  "kernelspec": {
   "display_name": "Python 3",
   "language": "python",
   "name": "python3"
  },
  "language_info": {
   "codemirror_mode": {
    "name": "ipython",
    "version": 3
   },
   "file_extension": ".py",
   "mimetype": "text/x-python",
   "name": "python",
   "nbconvert_exporter": "python",
   "pygments_lexer": "ipython3",
   "version": "3.6.8"
  }
 },
 "nbformat": 4,
 "nbformat_minor": 2
}
