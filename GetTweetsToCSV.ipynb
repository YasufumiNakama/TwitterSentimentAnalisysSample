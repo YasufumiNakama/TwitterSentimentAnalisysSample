{
 "cells": [
  {
   "cell_type": "code",
   "execution_count": 1,
   "metadata": {},
   "outputs": [
    {
     "data": {
      "text/plain": [
       "['.DS_Store', 'keyword.csv']"
      ]
     },
     "execution_count": 1,
     "metadata": {},
     "output_type": "execute_result"
    }
   ],
   "source": [
    "import os\n",
    "import pandas as pd\n",
    "os.listdir('./input/')"
   ]
  },
  {
   "cell_type": "code",
   "execution_count": 2,
   "metadata": {},
   "outputs": [],
   "source": [
    "select = pd.read_csv('./input/keyword.csv', encoding='SHIFT-JIS', header=None)\n",
    "select = select[0].values.tolist()"
   ]
  },
  {
   "cell_type": "markdown",
   "metadata": {},
   "source": [
    "参考サイト  \n",
    "https://blog.seiyamaeda.com/11269"
   ]
  },
  {
   "cell_type": "code",
   "execution_count": 3,
   "metadata": {},
   "outputs": [],
   "source": [
    "from requests_oauthlib import OAuth1Session\n",
    "import json\n",
    " \n",
    "URL = 'https://api.twitter.com/1.1/search/tweets.json'\n",
    " \n",
    "KEYS = { # 自分のアカウントで入手したキーを下記に記載\n",
    "    'consumer_key': '**********',\n",
    "    'consumer_secret': '**********',\n",
    "    'access_token': '**********',\n",
    "    'access_secret': '**********',\n",
    "    }\n",
    " \n",
    "def get_tweets(search_word, count=100):\n",
    "    if not search_word: # 検索文字が無い場合は処理を中断\n",
    "        print (\"Plz input 'search_word'\")\n",
    "        return\n",
    " \n",
    "    twitter = OAuth1Session(\n",
    "        KEYS['consumer_key'], \n",
    "        KEYS['consumer_secret'],\n",
    "        KEYS['access_token'], \n",
    "        KEYS['access_secret'])\n",
    "    params = {'q': search_word, 'count': count}\n",
    " \n",
    "    req = twitter.get(URL, params=params)\n",
    "    \n",
    "    if req.status_code == 200:\n",
    "        timeline = json.loads(req.text)\n",
    "        metadata = timeline['search_metadata']\n",
    "        statuses = timeline['statuses']\n",
    "        return {\n",
    "            'result' : True, \n",
    "            'metadata': metadata, \n",
    "            'statuses': statuses, }\n",
    "    else:\n",
    "        print (\"Error: %d\" % req.status_code)\n",
    "        return{'result': False, 'status_code': req.status_code}"
   ]
  },
  {
   "cell_type": "code",
   "execution_count": 4,
   "metadata": {},
   "outputs": [
    {
     "name": "stdout",
     "output_type": "stream",
     "text": [
      "ドリームインキュベータ\n",
      "99\n",
      "田谷\n",
      "100\n",
      "ニュートン・フィナンシャル・コンサルティング\n",
      "2\n",
      "ムサシ\n",
      "88\n",
      "ボーソー油脂\n",
      "2\n",
      "協和発酵キリン\n",
      "100\n",
      "第一建設工業\n",
      "9\n",
      "ＴＡＴＥＲＵ\n",
      "100\n",
      "Ａｂａｌａｎｃｅ\n",
      "100\n",
      "日本通信\n",
      "100\n",
      "日本アンテナ\n",
      "96\n",
      "フォーカスシステムズ\n",
      "25\n",
      "レーザーテック\n",
      "100\n",
      "アイコム\n",
      "100\n",
      "シップヘルスケアホールディングス\n",
      "9\n",
      "トレンダーズ\n",
      "100\n",
      "ブルボン\n",
      "100\n",
      "サンヨーホームズ\n",
      "28\n",
      "コネクシオ\n",
      "40\n",
      "ヤマウラ\n",
      "30\n",
      "ソーシャルワイヤー\n",
      "45\n",
      "電算\n",
      "100\n",
      "鳥羽洋行\n",
      "3\n",
      "サニックス\n",
      "100\n",
      "田辺三菱製薬\n",
      "100\n",
      "日本創発グループ\n",
      "1\n",
      "ジー・テイスト\n",
      "0\n",
      "一正蒲鉾\n",
      "100\n",
      "ジェネレーションパス\n",
      "100\n",
      "リンクアンドモチベーション\n",
      "60\n"
     ]
    }
   ],
   "source": [
    "# 過去7日間のツイートを最大100件まで取得してCSVに保存\n",
    "for i in range(len(select)):\n",
    "    res = get_tweets(search_word=select[i], count=100)\n",
    "    df = pd.DataFrame()\n",
    "    \n",
    "    for j in range(len(res['statuses'])):\n",
    "        if res['result']==True:\n",
    "            df.loc[j, 'keyword'] = select[i]\n",
    "            df.loc[j, 'date'] = res['statuses'][j]['created_at']\n",
    "            df.loc[j, 'text'] = res['statuses'][j]['text'].replace('\\n','')\n",
    "    \n",
    "    print(select[i])\n",
    "    print(len(df))\n",
    "    \n",
    "    df.to_csv('./tweets/'+select[i]+'.csv')"
   ]
  }
 ],
 "metadata": {
  "kernelspec": {
   "display_name": "Python 3",
   "language": "python",
   "name": "python3"
  },
  "language_info": {
   "codemirror_mode": {
    "name": "ipython",
    "version": 3
   },
   "file_extension": ".py",
   "mimetype": "text/x-python",
   "name": "python",
   "nbconvert_exporter": "python",
   "pygments_lexer": "ipython3",
   "version": "3.6.8"
  }
 },
 "nbformat": 4,
 "nbformat_minor": 2
}
