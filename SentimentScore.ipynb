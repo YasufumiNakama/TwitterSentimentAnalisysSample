{
 "cells": [
  {
   "cell_type": "code",
   "execution_count": 1,
   "metadata": {},
   "outputs": [
    {
     "data": {
      "text/plain": [
       "['.DS_Store', 'keyword.csv']"
      ]
     },
     "execution_count": 1,
     "metadata": {},
     "output_type": "execute_result"
    }
   ],
   "source": [
    "import os\n",
    "import pandas as pd\n",
    "os.listdir('./input/')"
   ]
  },
  {
   "cell_type": "code",
   "execution_count": 2,
   "metadata": {},
   "outputs": [],
   "source": [
    "select = pd.read_csv('./input/keyword.csv', encoding='SHIFT-JIS', header=None)\n",
    "select = select[0].values.tolist()"
   ]
  },
  {
   "cell_type": "code",
   "execution_count": 3,
   "metadata": {},
   "outputs": [],
   "source": [
    "from natto import MeCab\n",
    "mc = MeCab()"
   ]
  },
  {
   "cell_type": "markdown",
   "metadata": {},
   "source": [
    "参考  \n",
    "https://dailytextmining.hatenablog.com/entry/2018/07/12/065500"
   ]
  },
  {
   "cell_type": "code",
   "execution_count": 4,
   "metadata": {},
   "outputs": [],
   "source": [
    "tango_retu = []\n",
    "score_retu = []\n",
    "\n",
    "#日本語評価極性辞書（用言編）ver.1.0（2008年12月版）\n",
    "# ポジの用語は 1 ,ネガの用語は -1 と数値化する\n",
    "with open(\"./dictionary/wago.121808.pn.txt\", 'r') as f:\n",
    "    for l in f.readlines():\n",
    "        l = l.split('\\t')\n",
    "        l[1] = l[1].replace(\" \",\"\").replace('\\n','')\n",
    "        value = 1 if l[0].split('（')[0]==\"ポジ\" else -1\n",
    "        \n",
    "        tango_retu.append(l[1])\n",
    "        score_retu.append(value)\n",
    "        \n",
    "wago_dic = dict(zip(tango_retu, score_retu))"
   ]
  },
  {
   "cell_type": "code",
   "execution_count": 5,
   "metadata": {},
   "outputs": [],
   "source": [
    "tango_retu = []\n",
    "score_retu = []\n",
    "\n",
    "# 日本語評価極性辞書（名詞編）ver.1.0（2008年12月版）\n",
    "# pの用語は 1 eの用語は 0 ,nの用語は -1 と数値化する\n",
    "with open(\"./dictionary/pn.csv.m3.120408.trim\", 'r') as f:\n",
    "    for l in f.readlines():\n",
    "        l = l.split('\\t')\n",
    "        \n",
    "        if l[1]==\"p\":\n",
    "            value = 1\n",
    "        elif l[1]==\"e\":\n",
    "            value = 0\n",
    "        elif l[1]==\"n\":\n",
    "            value = -1\n",
    "            \n",
    "        tango_retu.append(l[0])\n",
    "        score_retu.append(value)\n",
    "\n",
    "pn_dic = dict(zip(tango_retu, score_retu))"
   ]
  },
  {
   "cell_type": "code",
   "execution_count": 6,
   "metadata": {},
   "outputs": [],
   "source": [
    "for j in range(len(select)):\n",
    "    # 入力\n",
    "    df = pd.read_csv('./tweets/'+select[j]+'.csv')\n",
    "    \n",
    "    # スコア算出\n",
    "    df['score'] = 0\n",
    "\n",
    "    for i in range(len(df)):\n",
    "        if df.loc[:, 'text'].isnull()[i]:\n",
    "            #print(df.loc[i, 'text'])\n",
    "            score = 0\n",
    "        else:\n",
    "            res = mc.parse(df.loc[i, 'text'])\n",
    "            kaigyou = res.split('\\n')\n",
    "            score = 0\n",
    "    \n",
    "            #日本語評価極性辞書（用言編）ver.1.0（2008年12月版）\n",
    "            for tango_list in kaigyou:\n",
    "                tab = tango_list.split('\\t')\n",
    "                if tab[0] in wago_dic:\n",
    "                    pn_score = wago_dic[tab[0]]\n",
    "                else:\n",
    "                    #pn_score = '辞書に単語がないです'\n",
    "                    pn_score = 0\n",
    "                score += pn_score\n",
    "\n",
    "            # 日本語評価極性辞書（名詞編）ver.1.0（2008年12月版）\n",
    "            for tango_list in kaigyou:\n",
    "                tab = tango_list.split('\\t')\n",
    "                if tab[0] in pn_dic:\n",
    "                    pn_score = pn_dic[tab[0]]\n",
    "                else:\n",
    "                    #pn_score = '辞書に単語がないです'\n",
    "                    pn_score = 0\n",
    "                score += pn_score\n",
    "        \n",
    "            df.loc[i, 'score'] = score\n",
    "    \n",
    "    #　出力\n",
    "    df.to_csv('./sentiment_score/'+select[j]+'.csv')"
   ]
  }
 ],
 "metadata": {
  "kernelspec": {
   "display_name": "Python 3",
   "language": "python",
   "name": "python3"
  },
  "language_info": {
   "codemirror_mode": {
    "name": "ipython",
    "version": 3
   },
   "file_extension": ".py",
   "mimetype": "text/x-python",
   "name": "python",
   "nbconvert_exporter": "python",
   "pygments_lexer": "ipython3",
   "version": "3.6.8"
  }
 },
 "nbformat": 4,
 "nbformat_minor": 2
}
